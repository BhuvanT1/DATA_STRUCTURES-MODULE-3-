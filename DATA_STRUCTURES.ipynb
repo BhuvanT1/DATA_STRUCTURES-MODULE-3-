{
  "nbformat": 4,
  "nbformat_minor": 0,
  "metadata": {
    "colab": {
      "provenance": []
    },
    "kernelspec": {
      "name": "python3",
      "display_name": "Python 3"
    },
    "language_info": {
      "name": "python"
    }
  },
  "cells": [
    {
      "cell_type": "markdown",
      "source": [
        "#THEORY QUESTIONS"
      ],
      "metadata": {
        "id": "Yny3F7FJR8-I"
      }
    },
    {
      "cell_type": "markdown",
      "source": [
        "#Q1.What are data structures, and why are they important?\n",
        "\n",
        "   ->Data structures are specialized formats for organizing, storing, and accessing collections of data. They provide efficient ways to manage information based on its characteristics and intended us.\n",
        "\n",
        "#Q2.Explain the difference between mutable and immutable data types with example?\n",
        "\n",
        "    ->Mutable data types are those whose values can be changed or modified after creation.\n",
        "    Ex: Lists, dictionaries, sets.\n",
        "    whereas Immutable data types are those whose values cannot be changed or modified once they are created.\n",
        "    Ex: Strings, tuples, numbers (integers, floats).\n",
        "\n",
        "#Q3.What are the main differences between lists and tuples in Python?  \n",
        "    ->Lists: Mutable (can be modified) whereas\n",
        "    Tuples: Immutable (cannot be  modified).\n",
        "\n",
        "    Lists: Defined using square brackets [] whereas\n",
        "    Tuples: Defined using parentheses ().\n",
        "\n",
        "    Lists: Generally slower due to mutability whereas\n",
        "    Tuples: Generally faster due to immutability\n",
        "\n",
        "    Lists: Many methods available (e.g., append(), remove())\n",
        "    Tuples: Fewer methods available (e.g., count(), index()).\n",
        "\n",
        "#Q4.Describe how dictionaries store data?\n",
        "\n",
        "    ->Dictionaries in Python store data as key-value pairs using a hash table. Each key is hashed to a unique index in the table, allowing for fast retrieval of values by their associated keys. This structure ensures efficient data access, insertion, and deletion operations.\n",
        "\n",
        "\n",
        "#Q5.Why might you use a set instead of a list in Python?\n",
        "\n",
        "    ->We might use a set instead of a list in Python when you need to store unique elements and perform fast membership tests. Sets automatically handle duplicates and provide faster lookups compared to listsand they are ideal for scenarios where you need to ensure that all elements are unique and perform frequent membership checks.\n",
        "    \n",
        "\n",
        "\n",
        "#Q6.What is a string in Python, and how is it different from a list?\n",
        "\n",
        "    ->A string in Python is a sequence of characters enclosed in quotes. Strings can be defined using single quotes (') or double quotes (\").\n",
        "\n",
        "    String: A string is immutable, meaning once it is created, it cannot be changed whereas a\n",
        "    List: A list is mutable, so you can modify it after its creation.\n",
        "\n",
        "#Q7.How do tuples ensure data integrity in Python?\n",
        "\n",
        "    ->Tuples maintain data integrity in Python through their immutability. Once a tuple is created, you can't change its contents. This characteristic ensures that the data remains consistent and protected from accidental changes throughout the program.\n",
        "\n",
        "\n",
        "#Q8.What is a hash table, and how does it relate to dictionaries in Python?\n",
        "\n",
        "    ->A hash table is a data structure that stores data using a key-value system.\n",
        "\n",
        "    In Python, dictionaries are built on hash tables. When you add a key-value pair to a dictionary, Python uses a special function (hash function) to decide which compartment (bucket) to store the value in. This makes it easy and fast to find the data later.\n",
        "\n",
        "#Q9.Can lists contain different data types in Python?\n",
        "\n",
        "    ->Yes, lists in Python can contain different data types. You can mix integers, strings, floats, and even other lists within a single list.\n",
        "\n",
        "#Q10. Explain why strings are immutable in Python?\n",
        "    \n",
        "    ->Strings are immutable in Python to enhance performance and memory efficiency. Since strings are widely used, immutability allows for safer handling, reducing unexpected bugs.    \n",
        "\n",
        "#Q11.What advantages do dictionaries offer over lists for certain tasks?\n",
        "\n",
        "    -> Dictionaries provide fast lookups, insertions, and deletions based on unique keys. They are ideal for tasks that require quick access to data using a specific identifier, like a phone book or a database of user information.\n",
        "\n",
        "#Q12. Describe a scenario where using a tuple would be preferable over a list?\n",
        "\n",
        "    -> We can use a tuple when you need an immutable sequence of elements, such as storing coordinates (latitude, longitude) . Tuples ensure the data remains unchanged.\n",
        "\n",
        "#Q13.How do sets handle duplicate values in Python?\n",
        "\n",
        "    -> Sets automatically eliminate duplicate values. When you add elements to a set, any duplicates are removed, talin care of that all elements are unique.  \n",
        "\n",
        "#Q14.How does the “in” keyword work differently for lists and dictionaries?\n",
        "    -> For lists, the in keyword checks if an element exists within the list.\n",
        "    whereas for dictionaries, it checks if a key is present. Example:\n",
        "    my_list = [1, 2, 3]\n",
        "    my_dict = {'a': 1, 'b': 2}\n",
        "    print(2 in my_list)  )\n",
        "    print('a' in my_dict)  )\n",
        "\n",
        "#Q15. Can you modify the elements of a tuple? Explain why or why not?\n",
        "\n",
        "    -> No, you cannot modify the elements of a tuple because tuples are immutable.Immutability ensures the contents remain constant after creation.   \n",
        "\n",
        "#Q16.What is a nested dictionary, and give an example of its use case?\n",
        "\n",
        "    -> A nested dictionary is a dictionary within another dictionary. It's useful for organizing complex data, Ex:\n",
        "\n",
        "    students = {\n",
        "    \"Bhuvan\": {\"age\": 20, \"grade\": \"A\"},\n",
        "    \"Pavan\": {\"age\": 19, \"grade\": \"A\"}\n",
        "    }\n",
        "    print(students[\"Bhuvan\"][\"age\"])\n",
        "\n",
        "\n",
        "#Q17. Describe the time complexity of accessing elements in a dictionary.  \n",
        "\n",
        "    -> The time complexity of accessing elements in a dictionary is O(1) on average, due to the underlying hash table structure, which provides constant-time lookups.\n",
        "\n",
        "#Q18.In what situations are lists preferred over dictionaries?\n",
        "\n",
        "    -> Lists are preferred when you need an ordered collection of items and where order matters, such as maintaining a sequence of events or storing a list of items to iterate over.\n",
        "\n",
        "#Q19.Why are dictionaries considered unordered, and how does that affect data retrieval?\n",
        "\n",
        "    -> Dictionaries are considered unordered because the elements are not stored in a sequence but based on the hash of their keys. This means you cannot access items by their position, only by their keys, affecting the way you retrieve data.\n",
        "\n",
        "#Q20.Explain the difference between a list and a dictionary in terms of data retrieval.\n",
        "\n",
        "    -> In a list, you can retrieve data using an index within the sequence. In a dictionary, you retrieve data using a key.\n",
        "    Lists are accessed by position, while dictionaries are accessed by unique identifiers.\n",
        "\n"
      ],
      "metadata": {
        "id": "ZTJFHjfgTQK4"
      }
    },
    {
      "cell_type": "markdown",
      "source": [
        "#Practical Questions"
      ],
      "metadata": {
        "id": "4VGIIqpovzbV"
      }
    },
    {
      "cell_type": "code",
      "source": [
        "#Q1.Write a code to create a string with your name and print it.\n",
        "my_name = \"Themballi Bhuvan\"\n",
        "print(my_name)\n"
      ],
      "metadata": {
        "id": "L31toUbKR_qD",
        "colab": {
          "base_uri": "https://localhost:8080/"
        },
        "outputId": "d97c9eb0-154c-4861-aa12-67a2f81ae33f"
      },
      "execution_count": 2,
      "outputs": [
        {
          "output_type": "stream",
          "name": "stdout",
          "text": [
            "Themballi Bhuvan\n"
          ]
        }
      ]
    },
    {
      "cell_type": "code",
      "source": [
        "#Q2.Write a code to find the length of the string \"Hello World\".\n",
        "string_length = len(\"Hello World\")\n",
        "print(string_length)\n",
        "\n",
        "\n"
      ],
      "metadata": {
        "colab": {
          "base_uri": "https://localhost:8080/"
        },
        "id": "ufpy72tCu0z9",
        "outputId": "aa8d8c96-324e-4e74-bff5-084e13122a4c"
      },
      "execution_count": 4,
      "outputs": [
        {
          "output_type": "stream",
          "name": "stdout",
          "text": [
            "11\n"
          ]
        }
      ]
    },
    {
      "cell_type": "code",
      "source": [
        "#Q3.Write a code to slice the first 3 characters from the string \"Python Programming\".\n",
        "s_string = \"Python Programming\"[:3]\n",
        "print(s_string)\n",
        "\n"
      ],
      "metadata": {
        "colab": {
          "base_uri": "https://localhost:8080/"
        },
        "id": "bCg617S-vNfz",
        "outputId": "9e5a73a0-b7b5-44d3-f974-f47790050a20"
      },
      "execution_count": 6,
      "outputs": [
        {
          "output_type": "stream",
          "name": "stdout",
          "text": [
            "Pyt\n"
          ]
        }
      ]
    },
    {
      "cell_type": "code",
      "source": [
        "#Q4.Write a code to convert the string \"hello\" to uppercase.\n",
        "uppercase_string = \"hello\".upper()\n",
        "print(uppercase_string)"
      ],
      "metadata": {
        "colab": {
          "base_uri": "https://localhost:8080/"
        },
        "id": "3-futiKDvhvR",
        "outputId": "343e7a9e-da1c-4339-f0b3-e679a06bade1"
      },
      "execution_count": 8,
      "outputs": [
        {
          "output_type": "stream",
          "name": "stdout",
          "text": [
            "HELLO\n"
          ]
        }
      ]
    },
    {
      "cell_type": "code",
      "source": [
        "#Q5.Write a code to replace the word \"apple\" with \"orange\" in the string \"I like apple\"E.\n",
        "replace_string = \"I like apple\".replace(\"apple\", \"orange\")\n",
        "print(replace_string)\n"
      ],
      "metadata": {
        "colab": {
          "base_uri": "https://localhost:8080/"
        },
        "id": "3VjPrec9v5-l",
        "outputId": "dd8cb56e-0b53-4488-ddcc-346042513884"
      },
      "execution_count": 10,
      "outputs": [
        {
          "output_type": "stream",
          "name": "stdout",
          "text": [
            "I like orange\n"
          ]
        }
      ]
    },
    {
      "cell_type": "code",
      "source": [
        "#Q6.Write a code to create a list with numbers 1 to 5 and print it.\n",
        "numbers_list = [1, 2, 3, 4, 5]\n",
        "print(numbers_list)\n"
      ],
      "metadata": {
        "colab": {
          "base_uri": "https://localhost:8080/"
        },
        "id": "iTP4tls9wEmB",
        "outputId": "c051ed25-9d1a-4dd1-df5b-7b68237fd294"
      },
      "execution_count": 11,
      "outputs": [
        {
          "output_type": "stream",
          "name": "stdout",
          "text": [
            "[1, 2, 3, 4, 5]\n"
          ]
        }
      ]
    },
    {
      "cell_type": "code",
      "source": [
        "#Q7.Write a code to append the number 10 to the list [1, 2, 3, 4].\n",
        "a_list = [1, 2, 3, 4]\n",
        "a_list.append(10)\n",
        "print(a_list)\n",
        "\n"
      ],
      "metadata": {
        "colab": {
          "base_uri": "https://localhost:8080/"
        },
        "id": "bi19Bq-fwQwK",
        "outputId": "815eb89e-8195-4ed4-b451-0cea6d119450"
      },
      "execution_count": 13,
      "outputs": [
        {
          "output_type": "stream",
          "name": "stdout",
          "text": [
            "[1, 2, 3, 4, 10]\n"
          ]
        }
      ]
    },
    {
      "cell_type": "code",
      "source": [
        "#Q8. Write a code to remove the number 3 from the list [1, 2, 3, 4, 5].\n",
        "a_list = [1, 2, 3, 4, 5]\n",
        "a_list.remove(3)\n",
        "print(a_list)\n"
      ],
      "metadata": {
        "colab": {
          "base_uri": "https://localhost:8080/"
        },
        "id": "t4p5EGXmwnrC",
        "outputId": "6f5a3576-f724-453f-9352-721805f2b329"
      },
      "execution_count": 14,
      "outputs": [
        {
          "output_type": "stream",
          "name": "stdout",
          "text": [
            "[1, 2, 4, 5]\n"
          ]
        }
      ]
    },
    {
      "cell_type": "code",
      "source": [
        "#Q9.Write a code to access the second element in the list ['a', 'b', 'c', 'd'].\n",
        "a_list = ['a', 'b', 'c', 'd']\n",
        "second_element = a_list[1]\n",
        "print(second_element)\n"
      ],
      "metadata": {
        "colab": {
          "base_uri": "https://localhost:8080/"
        },
        "id": "aH7Z2_wSw7J_",
        "outputId": "ec68e980-4dac-4e66-81aa-b4ea8877f79a"
      },
      "execution_count": 15,
      "outputs": [
        {
          "output_type": "stream",
          "name": "stdout",
          "text": [
            "b\n"
          ]
        }
      ]
    },
    {
      "cell_type": "code",
      "source": [
        "#Q10.Write a code to reverse the list [10, 20, 30, 40, 50].\n",
        "a_list = [10, 20, 30, 40, 50]\n",
        "a_list.reverse()\n",
        "print(a_list)\n"
      ],
      "metadata": {
        "colab": {
          "base_uri": "https://localhost:8080/"
        },
        "id": "Vo7-115dxd2w",
        "outputId": "0ec86a35-220d-4072-ef3d-eb846d226815"
      },
      "execution_count": 16,
      "outputs": [
        {
          "output_type": "stream",
          "name": "stdout",
          "text": [
            "[50, 40, 30, 20, 10]\n"
          ]
        }
      ]
    },
    {
      "cell_type": "code",
      "source": [
        "#Q11. Write a code to create a tuple with the elements 10, 20, 30 and print it.\n",
        "a_tuple = (10, 20, 30)\n",
        "print(a_tuple)\n"
      ],
      "metadata": {
        "colab": {
          "base_uri": "https://localhost:8080/"
        },
        "id": "UizQeZWwxt6a",
        "outputId": "d648f6f1-aaa4-4f08-d128-955eb765d6eb"
      },
      "execution_count": 32,
      "outputs": [
        {
          "output_type": "stream",
          "name": "stdout",
          "text": [
            "(10, 20, 30)\n"
          ]
        }
      ]
    },
    {
      "cell_type": "code",
      "source": [
        "#Q12, Write a code to access the first element of the tuple ('apple', 'banana', 'cherry').\n",
        "a_tuple = ('apple', 'banana', 'cherry')\n",
        "print(a_tuple[0])\n"
      ],
      "metadata": {
        "colab": {
          "base_uri": "https://localhost:8080/"
        },
        "id": "6CDoR_iJyaaY",
        "outputId": "4f4070bf-222c-46da-905e-e06e8c214c0c"
      },
      "execution_count": 17,
      "outputs": [
        {
          "output_type": "stream",
          "name": "stdout",
          "text": [
            "apple\n"
          ]
        }
      ]
    },
    {
      "cell_type": "code",
      "source": [
        "#Q13. Write a code to count how many times the number 2 appears in the tuple (1, 2, 3, 2, 4, 2).\n",
        "a_tuple = (1, 2, 3, 2, 4, 2)\n",
        "count_2 = a_tuple.count(2)\n",
        "print(count_2)\n"
      ],
      "metadata": {
        "colab": {
          "base_uri": "https://localhost:8080/"
        },
        "id": "YoqwlAj-yfnn",
        "outputId": "b6dbc678-fe15-41fb-d7e4-f38b6f306bb3"
      },
      "execution_count": 18,
      "outputs": [
        {
          "output_type": "stream",
          "name": "stdout",
          "text": [
            "3\n"
          ]
        }
      ]
    },
    {
      "cell_type": "code",
      "source": [
        "#Q14.Write a code to find the index of the element \"cat\" in the tuple ('dog', 'cat', 'rabbit').\n",
        "a_tuple = ('dog', 'cat', 'rabbit')\n",
        "index_cat = a_tuple.index('cat')\n",
        "print(index_cat)\n"
      ],
      "metadata": {
        "colab": {
          "base_uri": "https://localhost:8080/"
        },
        "id": "W8nmcbLkyp1M",
        "outputId": "9c767d8b-aa6b-4706-da2e-30ca51c2492a"
      },
      "execution_count": 20,
      "outputs": [
        {
          "output_type": "stream",
          "name": "stdout",
          "text": [
            "1\n"
          ]
        }
      ]
    },
    {
      "cell_type": "code",
      "source": [
        "#Q15. Write a code to check if the element \"banana\" is in the tuple ('apple', 'orange', 'banana').\n",
        "a_tuple = ('apple', 'orange', 'banana')\n",
        "is_banana = 'banana' in a_tuple\n",
        "print(is_banana)\n"
      ],
      "metadata": {
        "colab": {
          "base_uri": "https://localhost:8080/"
        },
        "id": "2ARk4JF3yval",
        "outputId": "34da7e6c-5478-46d7-ed6a-5e3acd15c071"
      },
      "execution_count": 21,
      "outputs": [
        {
          "output_type": "stream",
          "name": "stdout",
          "text": [
            "True\n"
          ]
        }
      ]
    },
    {
      "cell_type": "code",
      "source": [
        "#Q16. Write a code to create a set with the elements 1, 2, 3, 4, 5 and print it.\n",
        "a_set = {1, 2, 3, 4, 5}\n",
        "print(a_set)\n"
      ],
      "metadata": {
        "colab": {
          "base_uri": "https://localhost:8080/"
        },
        "id": "1cfrgSDay0Lx",
        "outputId": "2098df73-57f0-4ad7-f308-318f405a2975"
      },
      "execution_count": 23,
      "outputs": [
        {
          "output_type": "stream",
          "name": "stdout",
          "text": [
            "{1, 2, 3, 4, 5}\n"
          ]
        }
      ]
    },
    {
      "cell_type": "code",
      "source": [
        "#Q17. Write a code to add the element 6 to the set {1, 2, 3, 4}.\n",
        "a_set = {1, 2, 3, 4}\n",
        "a_set.add(6)\n",
        "print(a_set)\n"
      ],
      "metadata": {
        "colab": {
          "base_uri": "https://localhost:8080/"
        },
        "id": "-gn5FXDwy5jz",
        "outputId": "138342b4-1648-4dc2-de77-3a66b0178631"
      },
      "execution_count": 24,
      "outputs": [
        {
          "output_type": "stream",
          "name": "stdout",
          "text": [
            "{1, 2, 3, 4, 6}\n"
          ]
        }
      ]
    },
    {
      "cell_type": "code",
      "source": [
        "#Q18. Write a code to create a tuple with the elements 10, 20, 30 and print it.\n",
        "a_tuple = (10, 20, 30)\n",
        "print(a_tuple)\n"
      ],
      "metadata": {
        "colab": {
          "base_uri": "https://localhost:8080/"
        },
        "id": "BEpMVC6ZzPeu",
        "outputId": "4e55e099-9ce6-4b40-b666-d3962e48ad04"
      },
      "execution_count": 25,
      "outputs": [
        {
          "output_type": "stream",
          "name": "stdout",
          "text": [
            "(10, 20, 30)\n"
          ]
        }
      ]
    },
    {
      "cell_type": "code",
      "source": [
        "#Q19. Write a code to access the first element of the tuple ('apple', 'banana', 'cherry').\n",
        "a_tuple = ('apple', 'banana', 'cherry')\n",
        "print(a_tuple[0])\n",
        "\n"
      ],
      "metadata": {
        "colab": {
          "base_uri": "https://localhost:8080/"
        },
        "id": "D7FLKeDhzSW6",
        "outputId": "dcb4596d-a127-48f5-86b0-682035901ada"
      },
      "execution_count": 26,
      "outputs": [
        {
          "output_type": "stream",
          "name": "stdout",
          "text": [
            "apple\n"
          ]
        }
      ]
    },
    {
      "cell_type": "code",
      "source": [
        "#Q20. Write a code to count how many times the number 2 appears in the tuple (1, 2, 3, 2, 4, 2).\n",
        "a_tuple = (1, 2, 3, 2, 4, 2)\n",
        "count_2 = a_tuple.count(2)\n",
        "print(count_2)\n"
      ],
      "metadata": {
        "colab": {
          "base_uri": "https://localhost:8080/"
        },
        "id": "puia8FB9zWkx",
        "outputId": "8f3236a2-76aa-4137-8509-624191f9dba5"
      },
      "execution_count": 27,
      "outputs": [
        {
          "output_type": "stream",
          "name": "stdout",
          "text": [
            "3\n"
          ]
        }
      ]
    },
    {
      "cell_type": "code",
      "source": [
        "#Q21. Write a code to find the index of the element \"cat\" in the tuple ('dog', 'cat', 'rabbit').\n",
        "a_tuple = ('dog', 'cat', 'rabbit')\n",
        "index_cat = a_tuple.index('cat')\n",
        "print(index_cat)\n"
      ],
      "metadata": {
        "colab": {
          "base_uri": "https://localhost:8080/"
        },
        "id": "2YLoEXL2zaQ6",
        "outputId": "76e09429-3412-4ed0-bb55-655615175f1d"
      },
      "execution_count": 28,
      "outputs": [
        {
          "output_type": "stream",
          "name": "stdout",
          "text": [
            "1\n"
          ]
        }
      ]
    },
    {
      "cell_type": "code",
      "source": [
        "#Q22. Write a code to check if the element \"banana\" is in the tuple ('apple', 'orange', 'banana').\n",
        "a_tuple = ('apple', 'orange', 'banana')\n",
        "is_banana = 'banana' in a_tuple\n",
        "print(is_banana)\n"
      ],
      "metadata": {
        "colab": {
          "base_uri": "https://localhost:8080/"
        },
        "id": "-SK8ogxTzd1j",
        "outputId": "72db8af9-e647-4303-dcb0-e0e09c9a2a4d"
      },
      "execution_count": 29,
      "outputs": [
        {
          "output_type": "stream",
          "name": "stdout",
          "text": [
            "True\n"
          ]
        }
      ]
    },
    {
      "cell_type": "code",
      "source": [
        "#Q23. Write a code to create a set with the elements 1, 2, 3, 4, 5 and print it.\n",
        "a_set = {1, 2, 3, 4, 5}\n",
        "print(a_set)\n"
      ],
      "metadata": {
        "colab": {
          "base_uri": "https://localhost:8080/"
        },
        "id": "NaRTPZIdziBD",
        "outputId": "b36467b6-6878-4cdd-8d74-62b3e4edbaf4"
      },
      "execution_count": 30,
      "outputs": [
        {
          "output_type": "stream",
          "name": "stdout",
          "text": [
            "{1, 2, 3, 4, 5}\n"
          ]
        }
      ]
    },
    {
      "cell_type": "code",
      "source": [
        "#Q24 Write a code to add the element 6 to the set {1, 2, 3, 4}.\n",
        "a_set = {1, 2, 3, 4}\n",
        "a_set.add(6)\n",
        "print(a_set)\n"
      ],
      "metadata": {
        "colab": {
          "base_uri": "https://localhost:8080/"
        },
        "id": "PoXXNfUDzmQh",
        "outputId": "3197295c-614a-448e-b9d8-2cc8341303e5"
      },
      "execution_count": 31,
      "outputs": [
        {
          "output_type": "stream",
          "name": "stdout",
          "text": [
            "{1, 2, 3, 4, 6}\n"
          ]
        }
      ]
    },
    {
      "cell_type": "code",
      "source": [],
      "metadata": {
        "id": "gB5pWQaZzp2g"
      },
      "execution_count": null,
      "outputs": []
    }
  ]
}